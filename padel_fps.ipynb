{
 "cells": [
  {
   "cell_type": "code",
   "execution_count": null,
   "metadata": {},
   "outputs": [],
   "source": [
    "from padelpy import from_smiles,padeldescriptor\n",
    "import pandas as pd\n",
    "import os"
   ]
  },
  {
   "cell_type": "code",
   "execution_count": null,
   "metadata": {},
   "outputs": [],
   "source": [
    "def get_padel_descriptors(smiles:list, name:str,descriptor_types='/home/xmpu215/anaconda3/envs/pytorch/lib/python3.7/site-packages/padelpy/PaDEL-Descriptor/descriptors.xml'): #df:Pandas dataframe,A DataFrame containing the column 'smiles' 计算PaDEL descriptor or fingerprint\n",
    "\n",
    "    #unique_df = df.drop_duplicates(subset=['smiles'])[['smiles']]\n",
    "    smiles_list = smiles\n",
    "    \n",
    "\n",
    "    input_file_name = '%s.smi'%(name)\n",
    "    output_file_name = '%s.csv'%(name)\n",
    "\n",
    "    os.chdir('./')\n",
    "    with open(input_file_name,'w') as f:\n",
    "        for x in smiles_list:\n",
    "            f.write(x+'\\n')\n",
    "    with open(output_file_name,'w') as o:\n",
    "        o.close()\n",
    "    padeldescriptor(maxruntime = -1, \n",
    "                    waitingjobs = -1,\n",
    "                    threads = -1, \n",
    "                    d_2d = False, \n",
    "                    d_3d = False, \n",
    "                    convert3d = False,\n",
    "                    descriptortypes = descriptor_types,\n",
    "                    detectaromaticity = False, # not deterministic if True\n",
    "                    mol_dir = input_file_name, \n",
    "                    d_file = output_file_name, \n",
    "                    fingerprints = True,\n",
    "                    log = True, \n",
    "                    maxcpdperfile = 0,\n",
    "                    removesalt = False, \n",
    "                    retain3d = False,\n",
    "                    retainorder = False, \n",
    "                    standardizenitro = False,\n",
    "                    standardizetautomers = False,\n",
    "                    tautomerlist = None,\n",
    "                    usefilenameasmolname = True,\n",
    "                    sp_timeout = None)\n",
    "\n",
    "    padel_df = pd.read_csv(output_file_name)\n",
    "\n",
    "    smiles_numbered_dict = dict(enumerate(smiles_list))\n",
    "\n",
    "    if len(smiles_list)==1: # no number on end of name if only one SMILES given\n",
    "        padel_df['Name'] = smiles_list\n",
    "    elif len(smiles_list)>1: # need to do it this way because list out of order\n",
    "        smiles_numbered_dict = dict(enumerate(smiles_list))\n",
    "        padel_df['Name'] = padel_df['Name'].map(lambda x: smiles_numbered_dict[int(x.split('_')[-1]) - 1])\n",
    "        \n",
    "    padel_df.rename(columns={'Name':'smiles'}, inplace=True)\n",
    "\n",
    "    #padel_feature_names = list(padel_df.columns[1:]) # all columns except smiles\n",
    "\n",
    "    #unique_df = padel_df\n",
    "    \n",
    "    os.chdir('..')\n",
    "\n",
    "    return padel_df"
   ]
  },
  {
   "cell_type": "code",
   "execution_count": null,
   "metadata": {},
   "outputs": [],
   "source": []
  },
  {
   "cell_type": "code",
   "execution_count": null,
   "metadata": {},
   "outputs": [],
   "source": []
  }
 ],
 "metadata": {
  "kernelspec": {
   "display_name": "pytorch",
   "language": "python",
   "name": "python3"
  },
  "language_info": {
   "name": "python",
   "version": "3.7.3"
  },
  "orig_nbformat": 4,
  "vscode": {
   "interpreter": {
    "hash": "69bdb166dba3c01334047b6912a7ff11ec3d5675aafa507a9f87ab89b4af4a2b"
   }
  }
 },
 "nbformat": 4,
 "nbformat_minor": 2
}
