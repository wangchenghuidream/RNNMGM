{
 "cells": [
  {
   "cell_type": "markdown",
   "id": "21f0cb49-484e-43bb-a930-3a887708a7a8",
   "metadata": {},
   "source": [
    "### 写github的main.py调试代码"
   ]
  },
  {
   "cell_type": "code",
   "execution_count": 1,
   "id": "46057172-0211-43e8-a749-ca5bce94f142",
   "metadata": {},
   "outputs": [],
   "source": [
    "from model import *\n",
    "import fit\n",
    "\n",
    "from Mol2Graph import Mol2Graph\n",
    "from rdkit.Chem import AllChem as Chem\n",
    "from multiprocessing import Pool\n",
    "import numpy as np\n",
    "\n",
    "import torch\n",
    "import random\n",
    "from torch_geometric.data import Data #, DataLoader\n",
    "from torch_geometric.loader import DataLoader\n",
    "from multiprocessing import Pool"
   ]
  },
  {
   "cell_type": "code",
   "execution_count": 3,
   "id": "f152e3a2-417a-4ce9-af8a-8e489c9b42b6",
   "metadata": {},
   "outputs": [],
   "source": [
    "fr_Train = eval(open('../density/21_split/Train_exc_items.table').read())\n",
    "fr_test = eval(open('../density/21_split/test_items.table').read())"
   ]
  },
  {
   "cell_type": "code",
   "execution_count": 4,
   "id": "d4ebbfc7-5e72-417d-b36c-ea6ba1e1358c",
   "metadata": {},
   "outputs": [],
   "source": [
    "class DataFeat(object):\n",
    "    def __init__(self, **kwargs):\n",
    "        for k in kwargs:\n",
    "            self.__dict__[k] = kwargs[k]\n",
    "            \n",
    "mol_block = eval(open('../density/21_split/density_molblocks_2021.dir').read())\n",
    "def make_data(items):\n",
    "    try:\n",
    "        mol1 = Chem.MolFromMolBlock(mol_block[items[0]])\n",
    "        mol2 = Chem.MolFromMolBlock(mol_block[items[1]])\n",
    "\n",
    "        g1 = Mol2Graph(mol1)\n",
    "        g2 = Mol2Graph(mol2)\n",
    "        x = np.concatenate([g1.x, g2.x], axis=0)\n",
    "        edge_feats = np.concatenate([g1.edge_feats, g2.edge_feats], axis=0)\n",
    "        e_idx2 = g2.edge_idx+g1.node_num\n",
    "        edge_index = np.concatenate([g1.edge_idx, e_idx2], axis=0)\n",
    "        return DataFeat(x=x, edge_feats=edge_feats, edge_index=edge_index, y=np.array([float(items[2])]))\n",
    "    except: \n",
    "        print('Bad input sample:'+items[-1]+'skipped.')"
   ]
  },
  {
   "cell_type": "code",
   "execution_count": 8,
   "id": "0b9a082c-2309-477a-a704-2d587e37fed6",
   "metadata": {},
   "outputs": [],
   "source": [
    "\"\"\"\n",
    "items = ['S1C=CSC1=C1SC=CS1_TTFCAN15', 'ClC1=C(Cl)C(=O)C(=C(Cl)C1=O)Cl_TTFCAN15', 1.944, 'TTFCAN15']\n",
    "mol1 = Chem.MolFromMolBlock(mol_block[items[0]])\n",
    "mol2 = Chem.MolFromMolBlock(mol_block[items[1]])\n",
    "\n",
    "g1 = Mol2Graph(mol1)\n",
    "g2 = Mol2Graph(mol2)\n",
    "x = np.concatenate([g1.x, g2.x], axis=0)\n",
    "edge_feats = np.concatenate([g1.edge_feats, g2.edge_feats], axis=0)\n",
    "e_idx2 = g2.edge_idx+g1.node_num\n",
    "edge_index = np.concatenate([g1.edge_idx, e_idx2], axis=0)\n",
    "\"\"\""
   ]
  },
  {
   "cell_type": "code",
   "execution_count": 5,
   "id": "722950e6-eff1-451b-b750-327a35b18cf7",
   "metadata": {
    "scrolled": true,
    "tags": []
   },
   "outputs": [],
   "source": [
    "from multiprocessing import Pool\n",
    "\n",
    "pool = Pool(processes=30)                 # 创建进程池对象，进程数与multiprocessing.cpu_count()相同\n",
    "data_pool_Train = pool.map(make_data, [i for i in fr_Train if Chem.MolFromMolBlock(mol_block[i[0]]) != None and Chem.MolFromMolBlock(mol_block[i[1]]) != None])  # 并行执行函数\n",
    "data_pool_test = pool.map(make_data, [i for i in fr_test if Chem.MolFromMolBlock(mol_block[i[0]]) != None and Chem.MolFromMolBlock(mol_block[i[1]]) != None])\n",
    "pool.close()\n",
    "pool.join()"
   ]
  },
  {
   "cell_type": "code",
   "execution_count": 6,
   "id": "02035490-e3b8-44bd-8fc6-2460f32d9f6c",
   "metadata": {},
   "outputs": [
    {
     "name": "stdout",
     "output_type": "stream",
     "text": [
      "Mean: 1.4773111506223011 \tStd: 0.2657192556909069\n"
     ]
    }
   ],
   "source": [
    "Y_Train = np.array([i.y for i in data_pool_Train])\n",
    "std = Y_Train.std()\n",
    "mean = Y_Train.mean()\n",
    "print('Mean:', mean, '\\tStd:', std)"
   ]
  },
  {
   "cell_type": "code",
   "execution_count": 7,
   "id": "eccf2438-0c45-4aba-9f18-48fa3203fc8f",
   "metadata": {},
   "outputs": [],
   "source": [
    "loader_Train = []\n",
    "for d in data_pool_Train:\n",
    "    i = Data(x=torch.tensor(d.x),   #使用PyG 的Data来建图\n",
    "         edge_index=torch.tensor(d.edge_index.T, dtype=torch.long),\n",
    "         edge_attr=torch.tensor(d.edge_feats),\n",
    "         y=torch.tensor((d.y-mean)/std, dtype=torch.float32))\n",
    "    loader_Train.append(i)"
   ]
  },
  {
   "cell_type": "code",
   "execution_count": 8,
   "id": "82ec4676-60bf-426e-8e98-49dbfd28a5dc",
   "metadata": {},
   "outputs": [],
   "source": [
    "loader_test = []\n",
    "for d in data_pool_test:\n",
    "    i = Data(x=torch.tensor(d.x),  #使用PyG 的Data来建图\n",
    "         edge_index=torch.tensor(d.edge_index.T, dtype=torch.long),\n",
    "         edge_attr=torch.tensor(d.edge_feats),\n",
    "         y=torch.tensor((d.y-mean)/std, dtype=torch.float32))\n",
    "    loader_test.append(i)"
   ]
  },
  {
   "cell_type": "code",
   "execution_count": 9,
   "id": "08adc872-a354-46d8-9c39-5e5fbfc20aa0",
   "metadata": {},
   "outputs": [],
   "source": [
    "random.seed(1000)\n",
    "random.shuffle(loader_Train)\n",
    "\n",
    "train_loader = DataLoader(loader_Train, batch_size=128, shuffle=0, drop_last=True)\n",
    "test_loader = DataLoader(loader_test, batch_size=128, shuffle=0)"
   ]
  },
  {
   "cell_type": "code",
   "execution_count": 10,
   "id": "2dd1cd95-0fc1-4c07-849f-afe766ea83dd",
   "metadata": {
    "scrolled": true,
    "tags": []
   },
   "outputs": [
    {
     "name": "stderr",
     "output_type": "stream",
     "text": [
      "/PUBLIC/home/guojiali/anaconda3/envs/ccdc/lib/python3.7/site-packages/torch/nn/functional.py:1794: UserWarning: nn.functional.tanh is deprecated. Use torch.tanh instead.\n",
      "  warnings.warn(\"nn.functional.tanh is deprecated. Use torch.tanh instead.\")\n"
     ]
    },
    {
     "name": "stdout",
     "output_type": "stream",
     "text": [
      "Epoch:001 ==> LR: 0.001000, Train loss: 0.0172, Train R2_pccs: 0.8614, Train_R2: 0.7530, Valid loss: 0.0168, Valid R2_pccs: 0.8959, Valid R2: 0.7753, Elapsed Time:9.64 s\n"
     ]
    },
    {
     "name": "stderr",
     "output_type": "stream",
     "text": [
      "/PUBLIC/home/guojiali/anaconda3/envs/ccdc/lib/python3.7/site-packages/torch/nn/functional.py:1794: UserWarning: nn.functional.tanh is deprecated. Use torch.tanh instead.\n",
      "  warnings.warn(\"nn.functional.tanh is deprecated. Use torch.tanh instead.\")\n"
     ]
    },
    {
     "name": "stdout",
     "output_type": "stream",
     "text": [
      "Epoch:002 ==> LR: 0.001000, Train loss: 0.0074, Train R2_pccs: 0.9255, Train_R2: 0.8934, Valid loss: 0.0075, Valid R2_pccs: 0.9557, Valid R2: 0.8997, Elapsed Time:1.59 s\n"
     ]
    },
    {
     "name": "stderr",
     "output_type": "stream",
     "text": [
      "/PUBLIC/home/guojiali/anaconda3/envs/ccdc/lib/python3.7/site-packages/torch/nn/functional.py:1794: UserWarning: nn.functional.tanh is deprecated. Use torch.tanh instead.\n",
      "  warnings.warn(\"nn.functional.tanh is deprecated. Use torch.tanh instead.\")\n"
     ]
    },
    {
     "name": "stdout",
     "output_type": "stream",
     "text": [
      "Epoch:003 ==> LR: 0.001000, Train loss: 0.0053, Train R2_pccs: 0.9408, Train_R2: 0.9234, Valid loss: 0.0045, Valid R2_pccs: 0.9603, Valid R2: 0.9397, Elapsed Time:1.25 s\n"
     ]
    },
    {
     "name": "stderr",
     "output_type": "stream",
     "text": [
      "/PUBLIC/home/guojiali/anaconda3/envs/ccdc/lib/python3.7/site-packages/torch/nn/functional.py:1794: UserWarning: nn.functional.tanh is deprecated. Use torch.tanh instead.\n",
      "  warnings.warn(\"nn.functional.tanh is deprecated. Use torch.tanh instead.\")\n"
     ]
    },
    {
     "name": "stdout",
     "output_type": "stream",
     "text": [
      "Epoch:004 ==> LR: 0.001000, Train loss: 0.0041, Train R2_pccs: 0.9472, Train_R2: 0.9413, Valid loss: 0.0028, Valid R2_pccs: 0.9644, Valid R2: 0.9629, Elapsed Time:1.20 s\n"
     ]
    },
    {
     "name": "stderr",
     "output_type": "stream",
     "text": [
      "/PUBLIC/home/guojiali/anaconda3/envs/ccdc/lib/python3.7/site-packages/torch/nn/functional.py:1794: UserWarning: nn.functional.tanh is deprecated. Use torch.tanh instead.\n",
      "  warnings.warn(\"nn.functional.tanh is deprecated. Use torch.tanh instead.\")\n"
     ]
    },
    {
     "name": "stdout",
     "output_type": "stream",
     "text": [
      "Epoch:005 ==> LR: 0.001000, Train loss: 0.0038, Train R2_pccs: 0.9491, Train_R2: 0.9459, Valid loss: 0.0030, Valid R2_pccs: 0.9702, Valid R2: 0.9601, Elapsed Time:1.17 s\n"
     ]
    },
    {
     "name": "stderr",
     "output_type": "stream",
     "text": [
      "/PUBLIC/home/guojiali/anaconda3/envs/ccdc/lib/python3.7/site-packages/torch/nn/functional.py:1794: UserWarning: nn.functional.tanh is deprecated. Use torch.tanh instead.\n",
      "  warnings.warn(\"nn.functional.tanh is deprecated. Use torch.tanh instead.\")\n"
     ]
    },
    {
     "name": "stdout",
     "output_type": "stream",
     "text": [
      "Epoch:006 ==> LR: 0.001000, Train loss: 0.0086, Train R2_pccs: 0.9494, Train_R2: 0.8766, Valid loss: 0.0089, Valid R2_pccs: 0.9711, Valid R2: 0.8816, Elapsed Time:1.23 s\n"
     ]
    },
    {
     "name": "stderr",
     "output_type": "stream",
     "text": [
      "/PUBLIC/home/guojiali/anaconda3/envs/ccdc/lib/python3.7/site-packages/torch/nn/functional.py:1794: UserWarning: nn.functional.tanh is deprecated. Use torch.tanh instead.\n",
      "  warnings.warn(\"nn.functional.tanh is deprecated. Use torch.tanh instead.\")\n"
     ]
    },
    {
     "name": "stdout",
     "output_type": "stream",
     "text": [
      "Epoch:007 ==> LR: 0.001000, Train loss: 0.0042, Train R2_pccs: 0.9502, Train_R2: 0.9395, Valid loss: 0.0032, Valid R2_pccs: 0.9712, Valid R2: 0.9570, Elapsed Time:1.17 s\n"
     ]
    },
    {
     "name": "stderr",
     "output_type": "stream",
     "text": [
      "/PUBLIC/home/guojiali/anaconda3/envs/ccdc/lib/python3.7/site-packages/torch/nn/functional.py:1794: UserWarning: nn.functional.tanh is deprecated. Use torch.tanh instead.\n",
      "  warnings.warn(\"nn.functional.tanh is deprecated. Use torch.tanh instead.\")\n"
     ]
    },
    {
     "name": "stdout",
     "output_type": "stream",
     "text": [
      "Epoch:008 ==> LR: 0.001000, Train loss: 0.0035, Train R2_pccs: 0.9516, Train_R2: 0.9494, Valid loss: 0.0021, Valid R2_pccs: 0.9747, Valid R2: 0.9726, Elapsed Time:1.24 s\n"
     ]
    },
    {
     "name": "stderr",
     "output_type": "stream",
     "text": [
      "/PUBLIC/home/guojiali/anaconda3/envs/ccdc/lib/python3.7/site-packages/torch/nn/functional.py:1794: UserWarning: nn.functional.tanh is deprecated. Use torch.tanh instead.\n",
      "  warnings.warn(\"nn.functional.tanh is deprecated. Use torch.tanh instead.\")\n"
     ]
    },
    {
     "name": "stdout",
     "output_type": "stream",
     "text": [
      "Epoch:009 ==> LR: 0.001000, Train loss: 0.0052, Train R2_pccs: 0.9428, Train_R2: 0.9253, Valid loss: 0.0035, Valid R2_pccs: 0.9714, Valid R2: 0.9533, Elapsed Time:1.17 s\n"
     ]
    },
    {
     "name": "stderr",
     "output_type": "stream",
     "text": [
      "/PUBLIC/home/guojiali/anaconda3/envs/ccdc/lib/python3.7/site-packages/torch/nn/functional.py:1794: UserWarning: nn.functional.tanh is deprecated. Use torch.tanh instead.\n",
      "  warnings.warn(\"nn.functional.tanh is deprecated. Use torch.tanh instead.\")\n"
     ]
    },
    {
     "name": "stdout",
     "output_type": "stream",
     "text": [
      "Epoch:010 ==> LR: 0.001000, Train loss: 0.0043, Train R2_pccs: 0.9503, Train_R2: 0.9381, Valid loss: 0.0032, Valid R2_pccs: 0.9704, Valid R2: 0.9570, Elapsed Time:1.23 s\n"
     ]
    },
    {
     "name": "stderr",
     "output_type": "stream",
     "text": [
      "/PUBLIC/home/guojiali/anaconda3/envs/ccdc/lib/python3.7/site-packages/torch/nn/functional.py:1794: UserWarning: nn.functional.tanh is deprecated. Use torch.tanh instead.\n",
      "  warnings.warn(\"nn.functional.tanh is deprecated. Use torch.tanh instead.\")\n"
     ]
    },
    {
     "name": "stdout",
     "output_type": "stream",
     "text": [
      "Epoch:011 ==> LR: 0.001000, Train loss: 0.0044, Train R2_pccs: 0.9514, Train_R2: 0.9374, Valid loss: 0.0035, Valid R2_pccs: 0.9704, Valid R2: 0.9537, Elapsed Time:1.17 s\n"
     ]
    },
    {
     "name": "stderr",
     "output_type": "stream",
     "text": [
      "/PUBLIC/home/guojiali/anaconda3/envs/ccdc/lib/python3.7/site-packages/torch/nn/functional.py:1794: UserWarning: nn.functional.tanh is deprecated. Use torch.tanh instead.\n",
      "  warnings.warn(\"nn.functional.tanh is deprecated. Use torch.tanh instead.\")\n"
     ]
    },
    {
     "name": "stdout",
     "output_type": "stream",
     "text": [
      "Epoch:012 ==> LR: 0.001000, Train loss: 0.0053, Train R2_pccs: 0.9512, Train_R2: 0.9244, Valid loss: 0.0042, Valid R2_pccs: 0.9743, Valid R2: 0.9444, Elapsed Time:1.23 s\n"
     ]
    },
    {
     "name": "stderr",
     "output_type": "stream",
     "text": [
      "/PUBLIC/home/guojiali/anaconda3/envs/ccdc/lib/python3.7/site-packages/torch/nn/functional.py:1794: UserWarning: nn.functional.tanh is deprecated. Use torch.tanh instead.\n",
      "  warnings.warn(\"nn.functional.tanh is deprecated. Use torch.tanh instead.\")\n"
     ]
    },
    {
     "name": "stdout",
     "output_type": "stream",
     "text": [
      "Epoch:013 ==> LR: 0.001000, Train loss: 0.0036, Train R2_pccs: 0.9498, Train_R2: 0.9481, Valid loss: 0.0019, Valid R2_pccs: 0.9746, Valid R2: 0.9745, Elapsed Time:1.20 s\n"
     ]
    },
    {
     "name": "stderr",
     "output_type": "stream",
     "text": [
      "/PUBLIC/home/guojiali/anaconda3/envs/ccdc/lib/python3.7/site-packages/torch/nn/functional.py:1794: UserWarning: nn.functional.tanh is deprecated. Use torch.tanh instead.\n",
      "  warnings.warn(\"nn.functional.tanh is deprecated. Use torch.tanh instead.\")\n"
     ]
    },
    {
     "name": "stdout",
     "output_type": "stream",
     "text": [
      "Epoch:014 ==> LR: 0.001000, Train loss: 0.0048, Train R2_pccs: 0.9494, Train_R2: 0.9319, Valid loss: 0.0039, Valid R2_pccs: 0.9725, Valid R2: 0.9485, Elapsed Time:1.23 s\n"
     ]
    },
    {
     "name": "stderr",
     "output_type": "stream",
     "text": [
      "/PUBLIC/home/guojiali/anaconda3/envs/ccdc/lib/python3.7/site-packages/torch/nn/functional.py:1794: UserWarning: nn.functional.tanh is deprecated. Use torch.tanh instead.\n",
      "  warnings.warn(\"nn.functional.tanh is deprecated. Use torch.tanh instead.\")\n"
     ]
    },
    {
     "name": "stdout",
     "output_type": "stream",
     "text": [
      "Epoch:015 ==> LR: 0.001000, Train loss: 0.0045, Train R2_pccs: 0.9496, Train_R2: 0.9360, Valid loss: 0.0023, Valid R2_pccs: 0.9737, Valid R2: 0.9687, Elapsed Time:1.17 s\n"
     ]
    },
    {
     "name": "stderr",
     "output_type": "stream",
     "text": [
      "/PUBLIC/home/guojiali/anaconda3/envs/ccdc/lib/python3.7/site-packages/torch/nn/functional.py:1794: UserWarning: nn.functional.tanh is deprecated. Use torch.tanh instead.\n",
      "  warnings.warn(\"nn.functional.tanh is deprecated. Use torch.tanh instead.\")\n"
     ]
    },
    {
     "name": "stdout",
     "output_type": "stream",
     "text": [
      "Epoch:016 ==> LR: 0.001000, Train loss: 0.0035, Train R2_pccs: 0.9507, Train_R2: 0.9499, Valid loss: 0.0019, Valid R2_pccs: 0.9766, Valid R2: 0.9746, Elapsed Time:1.25 s\n"
     ]
    },
    {
     "name": "stderr",
     "output_type": "stream",
     "text": [
      "/PUBLIC/home/guojiali/anaconda3/envs/ccdc/lib/python3.7/site-packages/torch/nn/functional.py:1794: UserWarning: nn.functional.tanh is deprecated. Use torch.tanh instead.\n",
      "  warnings.warn(\"nn.functional.tanh is deprecated. Use torch.tanh instead.\")\n"
     ]
    },
    {
     "name": "stdout",
     "output_type": "stream",
     "text": [
      "Epoch:017 ==> LR: 0.001000, Train loss: 0.0092, Train R2_pccs: 0.9467, Train_R2: 0.8681, Valid loss: 0.0083, Valid R2_pccs: 0.9731, Valid R2: 0.8893, Elapsed Time:1.17 s\n"
     ]
    },
    {
     "name": "stderr",
     "output_type": "stream",
     "text": [
      "/PUBLIC/home/guojiali/anaconda3/envs/ccdc/lib/python3.7/site-packages/torch/nn/functional.py:1794: UserWarning: nn.functional.tanh is deprecated. Use torch.tanh instead.\n",
      "  warnings.warn(\"nn.functional.tanh is deprecated. Use torch.tanh instead.\")\n"
     ]
    },
    {
     "name": "stdout",
     "output_type": "stream",
     "text": [
      "Epoch:018 ==> LR: 0.001000, Train loss: 0.0070, Train R2_pccs: 0.9440, Train_R2: 0.8999, Valid loss: 0.0061, Valid R2_pccs: 0.9718, Valid R2: 0.9187, Elapsed Time:1.17 s\n"
     ]
    },
    {
     "name": "stderr",
     "output_type": "stream",
     "text": [
      "/PUBLIC/home/guojiali/anaconda3/envs/ccdc/lib/python3.7/site-packages/torch/nn/functional.py:1794: UserWarning: nn.functional.tanh is deprecated. Use torch.tanh instead.\n",
      "  warnings.warn(\"nn.functional.tanh is deprecated. Use torch.tanh instead.\")\n"
     ]
    },
    {
     "name": "stdout",
     "output_type": "stream",
     "text": [
      "Epoch:019 ==> LR: 0.001000, Train loss: 0.0051, Train R2_pccs: 0.9466, Train_R2: 0.9276, Valid loss: 0.0033, Valid R2_pccs: 0.9732, Valid R2: 0.9553, Elapsed Time:1.17 s\n"
     ]
    },
    {
     "name": "stderr",
     "output_type": "stream",
     "text": [
      "/PUBLIC/home/guojiali/anaconda3/envs/ccdc/lib/python3.7/site-packages/torch/nn/functional.py:1794: UserWarning: nn.functional.tanh is deprecated. Use torch.tanh instead.\n",
      "  warnings.warn(\"nn.functional.tanh is deprecated. Use torch.tanh instead.\")\n"
     ]
    },
    {
     "name": "stdout",
     "output_type": "stream",
     "text": [
      "Epoch:020 ==> LR: 0.001000, Train loss: 0.0065, Train R2_pccs: 0.9397, Train_R2: 0.9067, Valid loss: 0.0046, Valid R2_pccs: 0.9750, Valid R2: 0.9381, Elapsed Time:1.23 s\n"
     ]
    },
    {
     "name": "stderr",
     "output_type": "stream",
     "text": [
      "/PUBLIC/home/guojiali/anaconda3/envs/ccdc/lib/python3.7/site-packages/torch/nn/functional.py:1794: UserWarning: nn.functional.tanh is deprecated. Use torch.tanh instead.\n",
      "  warnings.warn(\"nn.functional.tanh is deprecated. Use torch.tanh instead.\")\n"
     ]
    },
    {
     "name": "stdout",
     "output_type": "stream",
     "text": [
      "Epoch:021 ==> LR: 0.001000, Train loss: 0.0041, Train R2_pccs: 0.9466, Train_R2: 0.9409, Valid loss: 0.0022, Valid R2_pccs: 0.9719, Valid R2: 0.9706, Elapsed Time:1.17 s\n"
     ]
    },
    {
     "name": "stderr",
     "output_type": "stream",
     "text": [
      "/PUBLIC/home/guojiali/anaconda3/envs/ccdc/lib/python3.7/site-packages/torch/nn/functional.py:1794: UserWarning: nn.functional.tanh is deprecated. Use torch.tanh instead.\n",
      "  warnings.warn(\"nn.functional.tanh is deprecated. Use torch.tanh instead.\")\n"
     ]
    },
    {
     "name": "stdout",
     "output_type": "stream",
     "text": [
      "Epoch:022 ==> LR: 0.001000, Train loss: 0.0054, Train R2_pccs: 0.9473, Train_R2: 0.9233, Valid loss: 0.0039, Valid R2_pccs: 0.9720, Valid R2: 0.9479, Elapsed Time:1.23 s\n"
     ]
    },
    {
     "name": "stderr",
     "output_type": "stream",
     "text": [
      "/PUBLIC/home/guojiali/anaconda3/envs/ccdc/lib/python3.7/site-packages/torch/nn/functional.py:1794: UserWarning: nn.functional.tanh is deprecated. Use torch.tanh instead.\n",
      "  warnings.warn(\"nn.functional.tanh is deprecated. Use torch.tanh instead.\")\n"
     ]
    },
    {
     "name": "stdout",
     "output_type": "stream",
     "text": [
      "Epoch:023 ==> LR: 0.001000, Train loss: 0.0054, Train R2_pccs: 0.9459, Train_R2: 0.9223, Valid loss: 0.0037, Valid R2_pccs: 0.9722, Valid R2: 0.9505, Elapsed Time:1.17 s\n"
     ]
    },
    {
     "name": "stderr",
     "output_type": "stream",
     "text": [
      "/PUBLIC/home/guojiali/anaconda3/envs/ccdc/lib/python3.7/site-packages/torch/nn/functional.py:1794: UserWarning: nn.functional.tanh is deprecated. Use torch.tanh instead.\n",
      "  warnings.warn(\"nn.functional.tanh is deprecated. Use torch.tanh instead.\")\n"
     ]
    },
    {
     "name": "stdout",
     "output_type": "stream",
     "text": [
      "Epoch:024 ==> LR: 0.001000, Train loss: 0.0042, Train R2_pccs: 0.9518, Train_R2: 0.9395, Valid loss: 0.0029, Valid R2_pccs: 0.9748, Valid R2: 0.9608, Elapsed Time:1.23 s\n"
     ]
    },
    {
     "name": "stderr",
     "output_type": "stream",
     "text": [
      "/PUBLIC/home/guojiali/anaconda3/envs/ccdc/lib/python3.7/site-packages/torch/nn/functional.py:1794: UserWarning: nn.functional.tanh is deprecated. Use torch.tanh instead.\n",
      "  warnings.warn(\"nn.functional.tanh is deprecated. Use torch.tanh instead.\")\n"
     ]
    },
    {
     "name": "stdout",
     "output_type": "stream",
     "text": [
      "Epoch:025 ==> LR: 0.001000, Train loss: 0.0044, Train R2_pccs: 0.9457, Train_R2: 0.9364, Valid loss: 0.0020, Valid R2_pccs: 0.9743, Valid R2: 0.9728, Elapsed Time:1.23 s\n"
     ]
    },
    {
     "name": "stderr",
     "output_type": "stream",
     "text": [
      "/PUBLIC/home/guojiali/anaconda3/envs/ccdc/lib/python3.7/site-packages/torch/nn/functional.py:1794: UserWarning: nn.functional.tanh is deprecated. Use torch.tanh instead.\n",
      "  warnings.warn(\"nn.functional.tanh is deprecated. Use torch.tanh instead.\")\n"
     ]
    },
    {
     "name": "stdout",
     "output_type": "stream",
     "text": [
      "Epoch:026 ==> LR: 0.001000, Train loss: 0.0067, Train R2_pccs: 0.9414, Train_R2: 0.9047, Valid loss: 0.0032, Valid R2_pccs: 0.9731, Valid R2: 0.9579, Elapsed Time:1.17 s\n"
     ]
    },
    {
     "name": "stderr",
     "output_type": "stream",
     "text": [
      "/PUBLIC/home/guojiali/anaconda3/envs/ccdc/lib/python3.7/site-packages/torch/nn/functional.py:1794: UserWarning: nn.functional.tanh is deprecated. Use torch.tanh instead.\n",
      "  warnings.warn(\"nn.functional.tanh is deprecated. Use torch.tanh instead.\")\n"
     ]
    },
    {
     "name": "stdout",
     "output_type": "stream",
     "text": [
      "Epoch:027 ==> LR: 0.001000, Train loss: 0.0056, Train R2_pccs: 0.9433, Train_R2: 0.9204, Valid loss: 0.0039, Valid R2_pccs: 0.9728, Valid R2: 0.9474, Elapsed Time:1.23 s\n"
     ]
    },
    {
     "name": "stderr",
     "output_type": "stream",
     "text": [
      "/PUBLIC/home/guojiali/anaconda3/envs/ccdc/lib/python3.7/site-packages/torch/nn/functional.py:1794: UserWarning: nn.functional.tanh is deprecated. Use torch.tanh instead.\n",
      "  warnings.warn(\"nn.functional.tanh is deprecated. Use torch.tanh instead.\")\n"
     ]
    },
    {
     "name": "stdout",
     "output_type": "stream",
     "text": [
      "Epoch:028 ==> LR: 0.001000, Train loss: 0.0057, Train R2_pccs: 0.9411, Train_R2: 0.9179, Valid loss: 0.0038, Valid R2_pccs: 0.9727, Valid R2: 0.9496, Elapsed Time:1.17 s\n"
     ]
    },
    {
     "name": "stderr",
     "output_type": "stream",
     "text": [
      "/PUBLIC/home/guojiali/anaconda3/envs/ccdc/lib/python3.7/site-packages/torch/nn/functional.py:1794: UserWarning: nn.functional.tanh is deprecated. Use torch.tanh instead.\n",
      "  warnings.warn(\"nn.functional.tanh is deprecated. Use torch.tanh instead.\")\n"
     ]
    },
    {
     "name": "stdout",
     "output_type": "stream",
     "text": [
      "Epoch:029 ==> LR: 0.001000, Train loss: 0.0056, Train R2_pccs: 0.9444, Train_R2: 0.9204, Valid loss: 0.0037, Valid R2_pccs: 0.9750, Valid R2: 0.9500, Elapsed Time:1.23 s\n"
     ]
    },
    {
     "name": "stderr",
     "output_type": "stream",
     "text": [
      "/PUBLIC/home/guojiali/anaconda3/envs/ccdc/lib/python3.7/site-packages/torch/nn/functional.py:1794: UserWarning: nn.functional.tanh is deprecated. Use torch.tanh instead.\n",
      "  warnings.warn(\"nn.functional.tanh is deprecated. Use torch.tanh instead.\")\n"
     ]
    },
    {
     "name": "stdout",
     "output_type": "stream",
     "text": [
      "Epoch:030 ==> LR: 0.001000, Train loss: 0.0101, Train R2_pccs: 0.9451, Train_R2: 0.8548, Valid loss: 0.0088, Valid R2_pccs: 0.9753, Valid R2: 0.8820, Elapsed Time:1.17 s\n"
     ]
    },
    {
     "name": "stderr",
     "output_type": "stream",
     "text": [
      "/PUBLIC/home/guojiali/anaconda3/envs/ccdc/lib/python3.7/site-packages/torch/nn/functional.py:1794: UserWarning: nn.functional.tanh is deprecated. Use torch.tanh instead.\n",
      "  warnings.warn(\"nn.functional.tanh is deprecated. Use torch.tanh instead.\")\n"
     ]
    },
    {
     "name": "stdout",
     "output_type": "stream",
     "text": [
      "Epoch:031 ==> LR: 0.001000, Train loss: 0.0055, Train R2_pccs: 0.9445, Train_R2: 0.9211, Valid loss: 0.0028, Valid R2_pccs: 0.9736, Valid R2: 0.9623, Elapsed Time:1.22 s\n"
     ]
    },
    {
     "name": "stderr",
     "output_type": "stream",
     "text": [
      "/PUBLIC/home/guojiali/anaconda3/envs/ccdc/lib/python3.7/site-packages/torch/nn/functional.py:1794: UserWarning: nn.functional.tanh is deprecated. Use torch.tanh instead.\n",
      "  warnings.warn(\"nn.functional.tanh is deprecated. Use torch.tanh instead.\")\n"
     ]
    },
    {
     "name": "stdout",
     "output_type": "stream",
     "text": [
      "Epoch:032 ==> LR: 0.001000, Train loss: 0.0061, Train R2_pccs: 0.9415, Train_R2: 0.9127, Valid loss: 0.0036, Valid R2_pccs: 0.9750, Valid R2: 0.9517, Elapsed Time:1.17 s\n"
     ]
    },
    {
     "name": "stderr",
     "output_type": "stream",
     "text": [
      "/PUBLIC/home/guojiali/anaconda3/envs/ccdc/lib/python3.7/site-packages/torch/nn/functional.py:1794: UserWarning: nn.functional.tanh is deprecated. Use torch.tanh instead.\n",
      "  warnings.warn(\"nn.functional.tanh is deprecated. Use torch.tanh instead.\")\n"
     ]
    },
    {
     "name": "stdout",
     "output_type": "stream",
     "text": [
      "Epoch:033 ==> LR: 0.000600, Train loss: 0.0042, Train R2_pccs: 0.9447, Train_R2: 0.9396, Valid loss: 0.0024, Valid R2_pccs: 0.9762, Valid R2: 0.9677, Elapsed Time:1.22 s\n"
     ]
    },
    {
     "name": "stderr",
     "output_type": "stream",
     "text": [
      "/PUBLIC/home/guojiali/anaconda3/envs/ccdc/lib/python3.7/site-packages/torch/nn/functional.py:1794: UserWarning: nn.functional.tanh is deprecated. Use torch.tanh instead.\n",
      "  warnings.warn(\"nn.functional.tanh is deprecated. Use torch.tanh instead.\")\n"
     ]
    },
    {
     "name": "stdout",
     "output_type": "stream",
     "text": [
      "Epoch:034 ==> LR: 0.000600, Train loss: 0.0036, Train R2_pccs: 0.9498, Train_R2: 0.9481, Valid loss: 0.0018, Valid R2_pccs: 0.9770, Valid R2: 0.9754, Elapsed Time:1.18 s\n"
     ]
    },
    {
     "name": "stderr",
     "output_type": "stream",
     "text": [
      "/PUBLIC/home/guojiali/anaconda3/envs/ccdc/lib/python3.7/site-packages/torch/nn/functional.py:1794: UserWarning: nn.functional.tanh is deprecated. Use torch.tanh instead.\n",
      "  warnings.warn(\"nn.functional.tanh is deprecated. Use torch.tanh instead.\")\n"
     ]
    },
    {
     "name": "stdout",
     "output_type": "stream",
     "text": [
      "Epoch:035 ==> LR: 0.000600, Train loss: 0.0039, Train R2_pccs: 0.9468, Train_R2: 0.9439, Valid loss: 0.0022, Valid R2_pccs: 0.9770, Valid R2: 0.9710, Elapsed Time:1.22 s\n"
     ]
    },
    {
     "name": "stderr",
     "output_type": "stream",
     "text": [
      "/PUBLIC/home/guojiali/anaconda3/envs/ccdc/lib/python3.7/site-packages/torch/nn/functional.py:1794: UserWarning: nn.functional.tanh is deprecated. Use torch.tanh instead.\n",
      "  warnings.warn(\"nn.functional.tanh is deprecated. Use torch.tanh instead.\")\n"
     ]
    },
    {
     "name": "stdout",
     "output_type": "stream",
     "text": [
      "Epoch:036 ==> LR: 0.000600, Train loss: 0.0041, Train R2_pccs: 0.9439, Train_R2: 0.9417, Valid loss: 0.0018, Valid R2_pccs: 0.9763, Valid R2: 0.9756, Elapsed Time:1.18 s\n"
     ]
    },
    {
     "name": "stderr",
     "output_type": "stream",
     "text": [
      "/PUBLIC/home/guojiali/anaconda3/envs/ccdc/lib/python3.7/site-packages/torch/nn/functional.py:1794: UserWarning: nn.functional.tanh is deprecated. Use torch.tanh instead.\n",
      "  warnings.warn(\"nn.functional.tanh is deprecated. Use torch.tanh instead.\")\n"
     ]
    },
    {
     "name": "stdout",
     "output_type": "stream",
     "text": [
      "Epoch:037 ==> LR: 0.000600, Train loss: 0.0041, Train R2_pccs: 0.9414, Train_R2: 0.9407, Valid loss: 0.0020, Valid R2_pccs: 0.9763, Valid R2: 0.9739, Elapsed Time:1.23 s\n"
     ]
    },
    {
     "name": "stderr",
     "output_type": "stream",
     "text": [
      "/PUBLIC/home/guojiali/anaconda3/envs/ccdc/lib/python3.7/site-packages/torch/nn/functional.py:1794: UserWarning: nn.functional.tanh is deprecated. Use torch.tanh instead.\n",
      "  warnings.warn(\"nn.functional.tanh is deprecated. Use torch.tanh instead.\")\n"
     ]
    },
    {
     "name": "stdout",
     "output_type": "stream",
     "text": [
      "Epoch:038 ==> LR: 0.000600, Train loss: 0.0043, Train R2_pccs: 0.9396, Train_R2: 0.9390, Valid loss: 0.0021, Valid R2_pccs: 0.9758, Valid R2: 0.9720, Elapsed Time:1.17 s\n"
     ]
    },
    {
     "name": "stderr",
     "output_type": "stream",
     "text": [
      "/PUBLIC/home/guojiali/anaconda3/envs/ccdc/lib/python3.7/site-packages/torch/nn/functional.py:1794: UserWarning: nn.functional.tanh is deprecated. Use torch.tanh instead.\n",
      "  warnings.warn(\"nn.functional.tanh is deprecated. Use torch.tanh instead.\")\n"
     ]
    },
    {
     "name": "stdout",
     "output_type": "stream",
     "text": [
      "Epoch:039 ==> LR: 0.000600, Train loss: 0.0049, Train R2_pccs: 0.9347, Train_R2: 0.9295, Valid loss: 0.0028, Valid R2_pccs: 0.9739, Valid R2: 0.9624, Elapsed Time:1.16 s\n"
     ]
    },
    {
     "name": "stderr",
     "output_type": "stream",
     "text": [
      "/PUBLIC/home/guojiali/anaconda3/envs/ccdc/lib/python3.7/site-packages/torch/nn/functional.py:1794: UserWarning: nn.functional.tanh is deprecated. Use torch.tanh instead.\n",
      "  warnings.warn(\"nn.functional.tanh is deprecated. Use torch.tanh instead.\")\n"
     ]
    },
    {
     "name": "stdout",
     "output_type": "stream",
     "text": [
      "Epoch:040 ==> LR: 0.000600, Train loss: 0.0044, Train R2_pccs: 0.9423, Train_R2: 0.9373, Valid loss: 0.0021, Valid R2_pccs: 0.9773, Valid R2: 0.9714, Elapsed Time:1.16 s\n"
     ]
    },
    {
     "name": "stderr",
     "output_type": "stream",
     "text": [
      "/PUBLIC/home/guojiali/anaconda3/envs/ccdc/lib/python3.7/site-packages/torch/nn/functional.py:1794: UserWarning: nn.functional.tanh is deprecated. Use torch.tanh instead.\n",
      "  warnings.warn(\"nn.functional.tanh is deprecated. Use torch.tanh instead.\")\n"
     ]
    },
    {
     "name": "stdout",
     "output_type": "stream",
     "text": [
      "Epoch:041 ==> LR: 0.000600, Train loss: 0.0057, Train R2_pccs: 0.9384, Train_R2: 0.9183, Valid loss: 0.0036, Valid R2_pccs: 0.9756, Valid R2: 0.9516, Elapsed Time:1.23 s\n"
     ]
    },
    {
     "name": "stderr",
     "output_type": "stream",
     "text": [
      "/PUBLIC/home/guojiali/anaconda3/envs/ccdc/lib/python3.7/site-packages/torch/nn/functional.py:1794: UserWarning: nn.functional.tanh is deprecated. Use torch.tanh instead.\n",
      "  warnings.warn(\"nn.functional.tanh is deprecated. Use torch.tanh instead.\")\n"
     ]
    },
    {
     "name": "stdout",
     "output_type": "stream",
     "text": [
      "Epoch:042 ==> LR: 0.000600, Train loss: 0.0055, Train R2_pccs: 0.9357, Train_R2: 0.9211, Valid loss: 0.0022, Valid R2_pccs: 0.9759, Valid R2: 0.9710, Elapsed Time:1.18 s\n"
     ]
    },
    {
     "name": "stderr",
     "output_type": "stream",
     "text": [
      "/PUBLIC/home/guojiali/anaconda3/envs/ccdc/lib/python3.7/site-packages/torch/nn/functional.py:1794: UserWarning: nn.functional.tanh is deprecated. Use torch.tanh instead.\n",
      "  warnings.warn(\"nn.functional.tanh is deprecated. Use torch.tanh instead.\")\n"
     ]
    },
    {
     "name": "stdout",
     "output_type": "stream",
     "text": [
      "Epoch:043 ==> LR: 0.000600, Train loss: 0.0052, Train R2_pccs: 0.9340, Train_R2: 0.9261, Valid loss: 0.0017, Valid R2_pccs: 0.9774, Valid R2: 0.9773, Elapsed Time:1.24 s\n"
     ]
    },
    {
     "name": "stderr",
     "output_type": "stream",
     "text": [
      "/PUBLIC/home/guojiali/anaconda3/envs/ccdc/lib/python3.7/site-packages/torch/nn/functional.py:1794: UserWarning: nn.functional.tanh is deprecated. Use torch.tanh instead.\n",
      "  warnings.warn(\"nn.functional.tanh is deprecated. Use torch.tanh instead.\")\n"
     ]
    },
    {
     "name": "stdout",
     "output_type": "stream",
     "text": [
      "Epoch:044 ==> LR: 0.000600, Train loss: 0.0060, Train R2_pccs: 0.9344, Train_R2: 0.9144, Valid loss: 0.0036, Valid R2_pccs: 0.9774, Valid R2: 0.9518, Elapsed Time:1.22 s\n"
     ]
    },
    {
     "name": "stderr",
     "output_type": "stream",
     "text": [
      "/PUBLIC/home/guojiali/anaconda3/envs/ccdc/lib/python3.7/site-packages/torch/nn/functional.py:1794: UserWarning: nn.functional.tanh is deprecated. Use torch.tanh instead.\n",
      "  warnings.warn(\"nn.functional.tanh is deprecated. Use torch.tanh instead.\")\n"
     ]
    },
    {
     "name": "stdout",
     "output_type": "stream",
     "text": [
      "Epoch:045 ==> LR: 0.000600, Train loss: 0.0063, Train R2_pccs: 0.9371, Train_R2: 0.9104, Valid loss: 0.0027, Valid R2_pccs: 0.9753, Valid R2: 0.9634, Elapsed Time:1.17 s\n"
     ]
    },
    {
     "name": "stderr",
     "output_type": "stream",
     "text": [
      "/PUBLIC/home/guojiali/anaconda3/envs/ccdc/lib/python3.7/site-packages/torch/nn/functional.py:1794: UserWarning: nn.functional.tanh is deprecated. Use torch.tanh instead.\n",
      "  warnings.warn(\"nn.functional.tanh is deprecated. Use torch.tanh instead.\")\n"
     ]
    },
    {
     "name": "stdout",
     "output_type": "stream",
     "text": [
      "Epoch:046 ==> LR: 0.000600, Train loss: 0.0060, Train R2_pccs: 0.9312, Train_R2: 0.9140, Valid loss: 0.0033, Valid R2_pccs: 0.9746, Valid R2: 0.9561, Elapsed Time:1.22 s\n"
     ]
    },
    {
     "name": "stderr",
     "output_type": "stream",
     "text": [
      "/PUBLIC/home/guojiali/anaconda3/envs/ccdc/lib/python3.7/site-packages/torch/nn/functional.py:1794: UserWarning: nn.functional.tanh is deprecated. Use torch.tanh instead.\n",
      "  warnings.warn(\"nn.functional.tanh is deprecated. Use torch.tanh instead.\")\n"
     ]
    },
    {
     "name": "stdout",
     "output_type": "stream",
     "text": [
      "Epoch:047 ==> LR: 0.000600, Train loss: 0.0050, Train R2_pccs: 0.9347, Train_R2: 0.9290, Valid loss: 0.0023, Valid R2_pccs: 0.9740, Valid R2: 0.9694, Elapsed Time:1.17 s\n"
     ]
    },
    {
     "name": "stderr",
     "output_type": "stream",
     "text": [
      "/PUBLIC/home/guojiali/anaconda3/envs/ccdc/lib/python3.7/site-packages/torch/nn/functional.py:1794: UserWarning: nn.functional.tanh is deprecated. Use torch.tanh instead.\n",
      "  warnings.warn(\"nn.functional.tanh is deprecated. Use torch.tanh instead.\")\n"
     ]
    },
    {
     "name": "stdout",
     "output_type": "stream",
     "text": [
      "Epoch:048 ==> LR: 0.000600, Train loss: 0.0044, Train R2_pccs: 0.9372, Train_R2: 0.9370, Valid loss: 0.0019, Valid R2_pccs: 0.9764, Valid R2: 0.9746, Elapsed Time:1.23 s\n"
     ]
    },
    {
     "name": "stderr",
     "output_type": "stream",
     "text": [
      "/PUBLIC/home/guojiali/anaconda3/envs/ccdc/lib/python3.7/site-packages/torch/nn/functional.py:1794: UserWarning: nn.functional.tanh is deprecated. Use torch.tanh instead.\n",
      "  warnings.warn(\"nn.functional.tanh is deprecated. Use torch.tanh instead.\")\n"
     ]
    },
    {
     "name": "stdout",
     "output_type": "stream",
     "text": [
      "Epoch:049 ==> LR: 0.000600, Train loss: 0.0059, Train R2_pccs: 0.9294, Train_R2: 0.9162, Valid loss: 0.0030, Valid R2_pccs: 0.9783, Valid R2: 0.9600, Elapsed Time:1.17 s\n"
     ]
    },
    {
     "name": "stderr",
     "output_type": "stream",
     "text": [
      "/PUBLIC/home/guojiali/anaconda3/envs/ccdc/lib/python3.7/site-packages/torch/nn/functional.py:1794: UserWarning: nn.functional.tanh is deprecated. Use torch.tanh instead.\n",
      "  warnings.warn(\"nn.functional.tanh is deprecated. Use torch.tanh instead.\")\n"
     ]
    },
    {
     "name": "stdout",
     "output_type": "stream",
     "text": [
      "Epoch:050 ==> LR: 0.000600, Train loss: 0.0061, Train R2_pccs: 0.9325, Train_R2: 0.9122, Valid loss: 0.0025, Valid R2_pccs: 0.9768, Valid R2: 0.9668, Elapsed Time:1.22 s\n"
     ]
    },
    {
     "name": "stderr",
     "output_type": "stream",
     "text": [
      "/PUBLIC/home/guojiali/anaconda3/envs/ccdc/lib/python3.7/site-packages/torch/nn/functional.py:1794: UserWarning: nn.functional.tanh is deprecated. Use torch.tanh instead.\n",
      "  warnings.warn(\"nn.functional.tanh is deprecated. Use torch.tanh instead.\")\n"
     ]
    },
    {
     "name": "stdout",
     "output_type": "stream",
     "text": [
      "Epoch:051 ==> LR: 0.000600, Train loss: 0.0055, Train R2_pccs: 0.9322, Train_R2: 0.9209, Valid loss: 0.0021, Valid R2_pccs: 0.9760, Valid R2: 0.9716, Elapsed Time:1.17 s\n"
     ]
    },
    {
     "name": "stderr",
     "output_type": "stream",
     "text": [
      "/PUBLIC/home/guojiali/anaconda3/envs/ccdc/lib/python3.7/site-packages/torch/nn/functional.py:1794: UserWarning: nn.functional.tanh is deprecated. Use torch.tanh instead.\n",
      "  warnings.warn(\"nn.functional.tanh is deprecated. Use torch.tanh instead.\")\n"
     ]
    },
    {
     "name": "stdout",
     "output_type": "stream",
     "text": [
      "Epoch:052 ==> LR: 0.000600, Train loss: 0.0056, Train R2_pccs: 0.9335, Train_R2: 0.9194, Valid loss: 0.0027, Valid R2_pccs: 0.9725, Valid R2: 0.9633, Elapsed Time:1.22 s\n"
     ]
    },
    {
     "name": "stderr",
     "output_type": "stream",
     "text": [
      "/PUBLIC/home/guojiali/anaconda3/envs/ccdc/lib/python3.7/site-packages/torch/nn/functional.py:1794: UserWarning: nn.functional.tanh is deprecated. Use torch.tanh instead.\n",
      "  warnings.warn(\"nn.functional.tanh is deprecated. Use torch.tanh instead.\")\n"
     ]
    },
    {
     "name": "stdout",
     "output_type": "stream",
     "text": [
      "Epoch:053 ==> LR: 0.000600, Train loss: 0.0061, Train R2_pccs: 0.9337, Train_R2: 0.9120, Valid loss: 0.0030, Valid R2_pccs: 0.9733, Valid R2: 0.9602, Elapsed Time:1.17 s\n"
     ]
    },
    {
     "name": "stderr",
     "output_type": "stream",
     "text": [
      "/PUBLIC/home/guojiali/anaconda3/envs/ccdc/lib/python3.7/site-packages/torch/nn/functional.py:1794: UserWarning: nn.functional.tanh is deprecated. Use torch.tanh instead.\n",
      "  warnings.warn(\"nn.functional.tanh is deprecated. Use torch.tanh instead.\")\n"
     ]
    },
    {
     "name": "stdout",
     "output_type": "stream",
     "text": [
      "Epoch:054 ==> LR: 0.000600, Train loss: 0.0053, Train R2_pccs: 0.9355, Train_R2: 0.9240, Valid loss: 0.0020, Valid R2_pccs: 0.9749, Valid R2: 0.9726, Elapsed Time:1.22 s\n"
     ]
    },
    {
     "name": "stderr",
     "output_type": "stream",
     "text": [
      "/PUBLIC/home/guojiali/anaconda3/envs/ccdc/lib/python3.7/site-packages/torch/nn/functional.py:1794: UserWarning: nn.functional.tanh is deprecated. Use torch.tanh instead.\n",
      "  warnings.warn(\"nn.functional.tanh is deprecated. Use torch.tanh instead.\")\n"
     ]
    },
    {
     "name": "stdout",
     "output_type": "stream",
     "text": [
      "Epoch:055 ==> LR: 0.000600, Train loss: 0.0052, Train R2_pccs: 0.9329, Train_R2: 0.9252, Valid loss: 0.0019, Valid R2_pccs: 0.9777, Valid R2: 0.9745, Elapsed Time:1.17 s\n"
     ]
    },
    {
     "name": "stderr",
     "output_type": "stream",
     "text": [
      "/PUBLIC/home/guojiali/anaconda3/envs/ccdc/lib/python3.7/site-packages/torch/nn/functional.py:1794: UserWarning: nn.functional.tanh is deprecated. Use torch.tanh instead.\n",
      "  warnings.warn(\"nn.functional.tanh is deprecated. Use torch.tanh instead.\")\n"
     ]
    },
    {
     "name": "stdout",
     "output_type": "stream",
     "text": [
      "Epoch:056 ==> LR: 0.000600, Train loss: 0.0067, Train R2_pccs: 0.9382, Train_R2: 0.9034, Valid loss: 0.0033, Valid R2_pccs: 0.9749, Valid R2: 0.9561, Elapsed Time:1.22 s\n"
     ]
    },
    {
     "name": "stderr",
     "output_type": "stream",
     "text": [
      "/PUBLIC/home/guojiali/anaconda3/envs/ccdc/lib/python3.7/site-packages/torch/nn/functional.py:1794: UserWarning: nn.functional.tanh is deprecated. Use torch.tanh instead.\n",
      "  warnings.warn(\"nn.functional.tanh is deprecated. Use torch.tanh instead.\")\n"
     ]
    },
    {
     "name": "stdout",
     "output_type": "stream",
     "text": [
      "Epoch:057 ==> LR: 0.000600, Train loss: 0.0060, Train R2_pccs: 0.9328, Train_R2: 0.9147, Valid loss: 0.0026, Valid R2_pccs: 0.9735, Valid R2: 0.9653, Elapsed Time:1.17 s\n"
     ]
    },
    {
     "name": "stderr",
     "output_type": "stream",
     "text": [
      "/PUBLIC/home/guojiali/anaconda3/envs/ccdc/lib/python3.7/site-packages/torch/nn/functional.py:1794: UserWarning: nn.functional.tanh is deprecated. Use torch.tanh instead.\n",
      "  warnings.warn(\"nn.functional.tanh is deprecated. Use torch.tanh instead.\")\n"
     ]
    },
    {
     "name": "stdout",
     "output_type": "stream",
     "text": [
      "Epoch:058 ==> LR: 0.000600, Train loss: 0.0058, Train R2_pccs: 0.9259, Train_R2: 0.9171, Valid loss: 0.0021, Valid R2_pccs: 0.9724, Valid R2: 0.9720, Elapsed Time:1.22 s\n"
     ]
    },
    {
     "name": "stderr",
     "output_type": "stream",
     "text": [
      "/PUBLIC/home/guojiali/anaconda3/envs/ccdc/lib/python3.7/site-packages/torch/nn/functional.py:1794: UserWarning: nn.functional.tanh is deprecated. Use torch.tanh instead.\n",
      "  warnings.warn(\"nn.functional.tanh is deprecated. Use torch.tanh instead.\")\n"
     ]
    },
    {
     "name": "stdout",
     "output_type": "stream",
     "text": [
      "Epoch:059 ==> LR: 0.000600, Train loss: 0.0050, Train R2_pccs: 0.9368, Train_R2: 0.9284, Valid loss: 0.0020, Valid R2_pccs: 0.9749, Valid R2: 0.9732, Elapsed Time:1.17 s\n"
     ]
    },
    {
     "name": "stderr",
     "output_type": "stream",
     "text": [
      "/PUBLIC/home/guojiali/anaconda3/envs/ccdc/lib/python3.7/site-packages/torch/nn/functional.py:1794: UserWarning: nn.functional.tanh is deprecated. Use torch.tanh instead.\n",
      "  warnings.warn(\"nn.functional.tanh is deprecated. Use torch.tanh instead.\")\n"
     ]
    },
    {
     "name": "stdout",
     "output_type": "stream",
     "text": [
      "Epoch:060 ==> LR: 0.000600, Train loss: 0.0068, Train R2_pccs: 0.9406, Train_R2: 0.9025, Valid loss: 0.0035, Valid R2_pccs: 0.9750, Valid R2: 0.9529, Elapsed Time:1.23 s\n"
     ]
    },
    {
     "name": "stderr",
     "output_type": "stream",
     "text": [
      "/PUBLIC/home/guojiali/anaconda3/envs/ccdc/lib/python3.7/site-packages/torch/nn/functional.py:1794: UserWarning: nn.functional.tanh is deprecated. Use torch.tanh instead.\n",
      "  warnings.warn(\"nn.functional.tanh is deprecated. Use torch.tanh instead.\")\n"
     ]
    },
    {
     "name": "stdout",
     "output_type": "stream",
     "text": [
      "Epoch:061 ==> LR: 0.000600, Train loss: 0.0046, Train R2_pccs: 0.9416, Train_R2: 0.9342, Valid loss: 0.0023, Valid R2_pccs: 0.9717, Valid R2: 0.9691, Elapsed Time:1.17 s\n"
     ]
    },
    {
     "name": "stderr",
     "output_type": "stream",
     "text": [
      "/PUBLIC/home/guojiali/anaconda3/envs/ccdc/lib/python3.7/site-packages/torch/nn/functional.py:1794: UserWarning: nn.functional.tanh is deprecated. Use torch.tanh instead.\n",
      "  warnings.warn(\"nn.functional.tanh is deprecated. Use torch.tanh instead.\")\n"
     ]
    },
    {
     "name": "stdout",
     "output_type": "stream",
     "text": [
      "Epoch:062 ==> LR: 0.000600, Train loss: 0.0127, Train R2_pccs: 0.9329, Train_R2: 0.8187, Valid loss: 0.0093, Valid R2_pccs: 0.9681, Valid R2: 0.8763, Elapsed Time:1.17 s\n"
     ]
    },
    {
     "name": "stderr",
     "output_type": "stream",
     "text": [
      "/PUBLIC/home/guojiali/anaconda3/envs/ccdc/lib/python3.7/site-packages/torch/nn/functional.py:1794: UserWarning: nn.functional.tanh is deprecated. Use torch.tanh instead.\n",
      "  warnings.warn(\"nn.functional.tanh is deprecated. Use torch.tanh instead.\")\n"
     ]
    },
    {
     "name": "stdout",
     "output_type": "stream",
     "text": [
      "Epoch:063 ==> LR: 0.000600, Train loss: 0.0063, Train R2_pccs: 0.9354, Train_R2: 0.9098, Valid loss: 0.0037, Valid R2_pccs: 0.9740, Valid R2: 0.9507, Elapsed Time:1.18 s\n"
     ]
    },
    {
     "name": "stderr",
     "output_type": "stream",
     "text": [
      "/PUBLIC/home/guojiali/anaconda3/envs/ccdc/lib/python3.7/site-packages/torch/nn/functional.py:1794: UserWarning: nn.functional.tanh is deprecated. Use torch.tanh instead.\n",
      "  warnings.warn(\"nn.functional.tanh is deprecated. Use torch.tanh instead.\")\n"
     ]
    },
    {
     "name": "stdout",
     "output_type": "stream",
     "text": [
      "Epoch:064 ==> LR: 0.000360, Train loss: 0.0045, Train R2_pccs: 0.9374, Train_R2: 0.9358, Valid loss: 0.0019, Valid R2_pccs: 0.9753, Valid R2: 0.9740, Elapsed Time:1.23 s\n"
     ]
    },
    {
     "name": "stderr",
     "output_type": "stream",
     "text": [
      "/PUBLIC/home/guojiali/anaconda3/envs/ccdc/lib/python3.7/site-packages/torch/nn/functional.py:1794: UserWarning: nn.functional.tanh is deprecated. Use torch.tanh instead.\n",
      "  warnings.warn(\"nn.functional.tanh is deprecated. Use torch.tanh instead.\")\n"
     ]
    },
    {
     "name": "stdout",
     "output_type": "stream",
     "text": [
      "Epoch:065 ==> LR: 0.000360, Train loss: 0.0051, Train R2_pccs: 0.9356, Train_R2: 0.9267, Valid loss: 0.0024, Valid R2_pccs: 0.9740, Valid R2: 0.9678, Elapsed Time:1.16 s\n"
     ]
    },
    {
     "name": "stderr",
     "output_type": "stream",
     "text": [
      "/PUBLIC/home/guojiali/anaconda3/envs/ccdc/lib/python3.7/site-packages/torch/nn/functional.py:1794: UserWarning: nn.functional.tanh is deprecated. Use torch.tanh instead.\n",
      "  warnings.warn(\"nn.functional.tanh is deprecated. Use torch.tanh instead.\")\n"
     ]
    },
    {
     "name": "stdout",
     "output_type": "stream",
     "text": [
      "Epoch:066 ==> LR: 0.000360, Train loss: 0.0046, Train R2_pccs: 0.9378, Train_R2: 0.9336, Valid loss: 0.0021, Valid R2_pccs: 0.9774, Valid R2: 0.9723, Elapsed Time:1.23 s\n"
     ]
    },
    {
     "name": "stderr",
     "output_type": "stream",
     "text": [
      "/PUBLIC/home/guojiali/anaconda3/envs/ccdc/lib/python3.7/site-packages/torch/nn/functional.py:1794: UserWarning: nn.functional.tanh is deprecated. Use torch.tanh instead.\n",
      "  warnings.warn(\"nn.functional.tanh is deprecated. Use torch.tanh instead.\")\n"
     ]
    },
    {
     "name": "stdout",
     "output_type": "stream",
     "text": [
      "Epoch:067 ==> LR: 0.000360, Train loss: 0.0045, Train R2_pccs: 0.9360, Train_R2: 0.9360, Valid loss: 0.0021, Valid R2_pccs: 0.9776, Valid R2: 0.9721, Elapsed Time:1.16 s\n"
     ]
    },
    {
     "name": "stderr",
     "output_type": "stream",
     "text": [
      "/PUBLIC/home/guojiali/anaconda3/envs/ccdc/lib/python3.7/site-packages/torch/nn/functional.py:1794: UserWarning: nn.functional.tanh is deprecated. Use torch.tanh instead.\n",
      "  warnings.warn(\"nn.functional.tanh is deprecated. Use torch.tanh instead.\")\n"
     ]
    },
    {
     "name": "stdout",
     "output_type": "stream",
     "text": [
      "Epoch:068 ==> LR: 0.000360, Train loss: 0.0066, Train R2_pccs: 0.9301, Train_R2: 0.9054, Valid loss: 0.0044, Valid R2_pccs: 0.9785, Valid R2: 0.9413, Elapsed Time:1.23 s\n"
     ]
    },
    {
     "name": "stderr",
     "output_type": "stream",
     "text": [
      "/PUBLIC/home/guojiali/anaconda3/envs/ccdc/lib/python3.7/site-packages/torch/nn/functional.py:1794: UserWarning: nn.functional.tanh is deprecated. Use torch.tanh instead.\n",
      "  warnings.warn(\"nn.functional.tanh is deprecated. Use torch.tanh instead.\")\n"
     ]
    },
    {
     "name": "stdout",
     "output_type": "stream",
     "text": [
      "Epoch:069 ==> LR: 0.000360, Train loss: 0.0056, Train R2_pccs: 0.9278, Train_R2: 0.9200, Valid loss: 0.0026, Valid R2_pccs: 0.9785, Valid R2: 0.9649, Elapsed Time:1.22 s\n"
     ]
    },
    {
     "name": "stderr",
     "output_type": "stream",
     "text": [
      "/PUBLIC/home/guojiali/anaconda3/envs/ccdc/lib/python3.7/site-packages/torch/nn/functional.py:1794: UserWarning: nn.functional.tanh is deprecated. Use torch.tanh instead.\n",
      "  warnings.warn(\"nn.functional.tanh is deprecated. Use torch.tanh instead.\")\n"
     ]
    },
    {
     "name": "stdout",
     "output_type": "stream",
     "text": [
      "Epoch:070 ==> LR: 0.000360, Train loss: 0.0048, Train R2_pccs: 0.9316, Train_R2: 0.9311, Valid loss: 0.0021, Valid R2_pccs: 0.9762, Valid R2: 0.9719, Elapsed Time:1.16 s\n"
     ]
    },
    {
     "name": "stderr",
     "output_type": "stream",
     "text": [
      "/PUBLIC/home/guojiali/anaconda3/envs/ccdc/lib/python3.7/site-packages/torch/nn/functional.py:1794: UserWarning: nn.functional.tanh is deprecated. Use torch.tanh instead.\n",
      "  warnings.warn(\"nn.functional.tanh is deprecated. Use torch.tanh instead.\")\n"
     ]
    },
    {
     "name": "stdout",
     "output_type": "stream",
     "text": [
      "Epoch:071 ==> LR: 0.000360, Train loss: 0.0046, Train R2_pccs: 0.9346, Train_R2: 0.9337, Valid loss: 0.0018, Valid R2_pccs: 0.9778, Valid R2: 0.9758, Elapsed Time:1.21 s\n"
     ]
    },
    {
     "name": "stderr",
     "output_type": "stream",
     "text": [
      "/PUBLIC/home/guojiali/anaconda3/envs/ccdc/lib/python3.7/site-packages/torch/nn/functional.py:1794: UserWarning: nn.functional.tanh is deprecated. Use torch.tanh instead.\n",
      "  warnings.warn(\"nn.functional.tanh is deprecated. Use torch.tanh instead.\")\n"
     ]
    },
    {
     "name": "stdout",
     "output_type": "stream",
     "text": [
      "Epoch:072 ==> LR: 0.000360, Train loss: 0.0058, Train R2_pccs: 0.9323, Train_R2: 0.9163, Valid loss: 0.0031, Valid R2_pccs: 0.9771, Valid R2: 0.9583, Elapsed Time:1.16 s\n"
     ]
    },
    {
     "name": "stderr",
     "output_type": "stream",
     "text": [
      "/PUBLIC/home/guojiali/anaconda3/envs/ccdc/lib/python3.7/site-packages/torch/nn/functional.py:1794: UserWarning: nn.functional.tanh is deprecated. Use torch.tanh instead.\n",
      "  warnings.warn(\"nn.functional.tanh is deprecated. Use torch.tanh instead.\")\n"
     ]
    },
    {
     "name": "stdout",
     "output_type": "stream",
     "text": [
      "Epoch:073 ==> LR: 0.000360, Train loss: 0.0060, Train R2_pccs: 0.9250, Train_R2: 0.9135, Valid loss: 0.0025, Valid R2_pccs: 0.9761, Valid R2: 0.9668, Elapsed Time:1.23 s\n"
     ]
    },
    {
     "name": "stderr",
     "output_type": "stream",
     "text": [
      "/PUBLIC/home/guojiali/anaconda3/envs/ccdc/lib/python3.7/site-packages/torch/nn/functional.py:1794: UserWarning: nn.functional.tanh is deprecated. Use torch.tanh instead.\n",
      "  warnings.warn(\"nn.functional.tanh is deprecated. Use torch.tanh instead.\")\n"
     ]
    },
    {
     "name": "stdout",
     "output_type": "stream",
     "text": [
      "Epoch:074 ==> LR: 0.000360, Train loss: 0.0063, Train R2_pccs: 0.9327, Train_R2: 0.9098, Valid loss: 0.0039, Valid R2_pccs: 0.9790, Valid R2: 0.9482, Elapsed Time:1.17 s\n"
     ]
    },
    {
     "name": "stderr",
     "output_type": "stream",
     "text": [
      "/PUBLIC/home/guojiali/anaconda3/envs/ccdc/lib/python3.7/site-packages/torch/nn/functional.py:1794: UserWarning: nn.functional.tanh is deprecated. Use torch.tanh instead.\n",
      "  warnings.warn(\"nn.functional.tanh is deprecated. Use torch.tanh instead.\")\n"
     ]
    },
    {
     "name": "stdout",
     "output_type": "stream",
     "text": [
      "Epoch:075 ==> LR: 0.000360, Train loss: 0.0050, Train R2_pccs: 0.9308, Train_R2: 0.9284, Valid loss: 0.0017, Valid R2_pccs: 0.9787, Valid R2: 0.9767, Elapsed Time:1.23 s\n"
     ]
    },
    {
     "name": "stderr",
     "output_type": "stream",
     "text": [
      "/PUBLIC/home/guojiali/anaconda3/envs/ccdc/lib/python3.7/site-packages/torch/nn/functional.py:1794: UserWarning: nn.functional.tanh is deprecated. Use torch.tanh instead.\n",
      "  warnings.warn(\"nn.functional.tanh is deprecated. Use torch.tanh instead.\")\n"
     ]
    },
    {
     "name": "stdout",
     "output_type": "stream",
     "text": [
      "Epoch:076 ==> LR: 0.000360, Train loss: 0.0050, Train R2_pccs: 0.9418, Train_R2: 0.9288, Valid loss: 0.0025, Valid R2_pccs: 0.9745, Valid R2: 0.9664, Elapsed Time:1.17 s\n"
     ]
    },
    {
     "name": "stderr",
     "output_type": "stream",
     "text": [
      "/PUBLIC/home/guojiali/anaconda3/envs/ccdc/lib/python3.7/site-packages/torch/nn/functional.py:1794: UserWarning: nn.functional.tanh is deprecated. Use torch.tanh instead.\n",
      "  warnings.warn(\"nn.functional.tanh is deprecated. Use torch.tanh instead.\")\n"
     ]
    },
    {
     "name": "stdout",
     "output_type": "stream",
     "text": [
      "Epoch:077 ==> LR: 0.000360, Train loss: 0.0043, Train R2_pccs: 0.9409, Train_R2: 0.9378, Valid loss: 0.0022, Valid R2_pccs: 0.9764, Valid R2: 0.9708, Elapsed Time:1.23 s\n"
     ]
    },
    {
     "name": "stderr",
     "output_type": "stream",
     "text": [
      "/PUBLIC/home/guojiali/anaconda3/envs/ccdc/lib/python3.7/site-packages/torch/nn/functional.py:1794: UserWarning: nn.functional.tanh is deprecated. Use torch.tanh instead.\n",
      "  warnings.warn(\"nn.functional.tanh is deprecated. Use torch.tanh instead.\")\n"
     ]
    },
    {
     "name": "stdout",
     "output_type": "stream",
     "text": [
      "Epoch:078 ==> LR: 0.000360, Train loss: 0.0051, Train R2_pccs: 0.9365, Train_R2: 0.9267, Valid loss: 0.0028, Valid R2_pccs: 0.9779, Valid R2: 0.9629, Elapsed Time:1.17 s\n"
     ]
    },
    {
     "name": "stderr",
     "output_type": "stream",
     "text": [
      "/PUBLIC/home/guojiali/anaconda3/envs/ccdc/lib/python3.7/site-packages/torch/nn/functional.py:1794: UserWarning: nn.functional.tanh is deprecated. Use torch.tanh instead.\n",
      "  warnings.warn(\"nn.functional.tanh is deprecated. Use torch.tanh instead.\")\n"
     ]
    },
    {
     "name": "stdout",
     "output_type": "stream",
     "text": [
      "Epoch:079 ==> LR: 0.000360, Train loss: 0.0044, Train R2_pccs: 0.9390, Train_R2: 0.9373, Valid loss: 0.0016, Valid R2_pccs: 0.9792, Valid R2: 0.9785, Elapsed Time:1.23 s\n"
     ]
    },
    {
     "name": "stderr",
     "output_type": "stream",
     "text": [
      "/PUBLIC/home/guojiali/anaconda3/envs/ccdc/lib/python3.7/site-packages/torch/nn/functional.py:1794: UserWarning: nn.functional.tanh is deprecated. Use torch.tanh instead.\n",
      "  warnings.warn(\"nn.functional.tanh is deprecated. Use torch.tanh instead.\")\n"
     ]
    },
    {
     "name": "stdout",
     "output_type": "stream",
     "text": [
      "Epoch:080 ==> LR: 0.000360, Train loss: 0.0049, Train R2_pccs: 0.9375, Train_R2: 0.9295, Valid loss: 0.0024, Valid R2_pccs: 0.9787, Valid R2: 0.9673, Elapsed Time:1.17 s\n"
     ]
    },
    {
     "name": "stderr",
     "output_type": "stream",
     "text": [
      "/PUBLIC/home/guojiali/anaconda3/envs/ccdc/lib/python3.7/site-packages/torch/nn/functional.py:1794: UserWarning: nn.functional.tanh is deprecated. Use torch.tanh instead.\n",
      "  warnings.warn(\"nn.functional.tanh is deprecated. Use torch.tanh instead.\")\n"
     ]
    },
    {
     "name": "stdout",
     "output_type": "stream",
     "text": [
      "Epoch:081 ==> LR: 0.000360, Train loss: 0.0052, Train R2_pccs: 0.9325, Train_R2: 0.9252, Valid loss: 0.0028, Valid R2_pccs: 0.9757, Valid R2: 0.9629, Elapsed Time:1.23 s\n"
     ]
    },
    {
     "name": "stderr",
     "output_type": "stream",
     "text": [
      "/PUBLIC/home/guojiali/anaconda3/envs/ccdc/lib/python3.7/site-packages/torch/nn/functional.py:1794: UserWarning: nn.functional.tanh is deprecated. Use torch.tanh instead.\n",
      "  warnings.warn(\"nn.functional.tanh is deprecated. Use torch.tanh instead.\")\n"
     ]
    },
    {
     "name": "stdout",
     "output_type": "stream",
     "text": [
      "Epoch:082 ==> LR: 0.000360, Train loss: 0.0048, Train R2_pccs: 0.9358, Train_R2: 0.9318, Valid loss: 0.0021, Valid R2_pccs: 0.9782, Valid R2: 0.9722, Elapsed Time:1.17 s\n"
     ]
    },
    {
     "name": "stderr",
     "output_type": "stream",
     "text": [
      "/PUBLIC/home/guojiali/anaconda3/envs/ccdc/lib/python3.7/site-packages/torch/nn/functional.py:1794: UserWarning: nn.functional.tanh is deprecated. Use torch.tanh instead.\n",
      "  warnings.warn(\"nn.functional.tanh is deprecated. Use torch.tanh instead.\")\n"
     ]
    },
    {
     "name": "stdout",
     "output_type": "stream",
     "text": [
      "Epoch:083 ==> LR: 0.000360, Train loss: 0.0044, Train R2_pccs: 0.9372, Train_R2: 0.9363, Valid loss: 0.0019, Valid R2_pccs: 0.9755, Valid R2: 0.9747, Elapsed Time:1.24 s\n"
     ]
    },
    {
     "name": "stderr",
     "output_type": "stream",
     "text": [
      "/PUBLIC/home/guojiali/anaconda3/envs/ccdc/lib/python3.7/site-packages/torch/nn/functional.py:1794: UserWarning: nn.functional.tanh is deprecated. Use torch.tanh instead.\n",
      "  warnings.warn(\"nn.functional.tanh is deprecated. Use torch.tanh instead.\")\n"
     ]
    },
    {
     "name": "stdout",
     "output_type": "stream",
     "text": [
      "Epoch:084 ==> LR: 0.000360, Train loss: 0.0049, Train R2_pccs: 0.9324, Train_R2: 0.9300, Valid loss: 0.0017, Valid R2_pccs: 0.9777, Valid R2: 0.9771, Elapsed Time:1.17 s\n"
     ]
    },
    {
     "name": "stderr",
     "output_type": "stream",
     "text": [
      "/PUBLIC/home/guojiali/anaconda3/envs/ccdc/lib/python3.7/site-packages/torch/nn/functional.py:1794: UserWarning: nn.functional.tanh is deprecated. Use torch.tanh instead.\n",
      "  warnings.warn(\"nn.functional.tanh is deprecated. Use torch.tanh instead.\")\n"
     ]
    },
    {
     "name": "stdout",
     "output_type": "stream",
     "text": [
      "Epoch:085 ==> LR: 0.000360, Train loss: 0.0051, Train R2_pccs: 0.9303, Train_R2: 0.9276, Valid loss: 0.0017, Valid R2_pccs: 0.9786, Valid R2: 0.9780, Elapsed Time:1.17 s\n"
     ]
    },
    {
     "name": "stderr",
     "output_type": "stream",
     "text": [
      "/PUBLIC/home/guojiali/anaconda3/envs/ccdc/lib/python3.7/site-packages/torch/nn/functional.py:1794: UserWarning: nn.functional.tanh is deprecated. Use torch.tanh instead.\n",
      "  warnings.warn(\"nn.functional.tanh is deprecated. Use torch.tanh instead.\")\n"
     ]
    },
    {
     "name": "stdout",
     "output_type": "stream",
     "text": [
      "Epoch:086 ==> LR: 0.000360, Train loss: 0.0044, Train R2_pccs: 0.9386, Train_R2: 0.9368, Valid loss: 0.0018, Valid R2_pccs: 0.9767, Valid R2: 0.9766, Elapsed Time:1.16 s\n"
     ]
    },
    {
     "name": "stderr",
     "output_type": "stream",
     "text": [
      "/PUBLIC/home/guojiali/anaconda3/envs/ccdc/lib/python3.7/site-packages/torch/nn/functional.py:1794: UserWarning: nn.functional.tanh is deprecated. Use torch.tanh instead.\n",
      "  warnings.warn(\"nn.functional.tanh is deprecated. Use torch.tanh instead.\")\n"
     ]
    },
    {
     "name": "stdout",
     "output_type": "stream",
     "text": [
      "Epoch:087 ==> LR: 0.000360, Train loss: 0.0047, Train R2_pccs: 0.9357, Train_R2: 0.9330, Valid loss: 0.0022, Valid R2_pccs: 0.9778, Valid R2: 0.9711, Elapsed Time:1.23 s\n"
     ]
    },
    {
     "name": "stderr",
     "output_type": "stream",
     "text": [
      "/PUBLIC/home/guojiali/anaconda3/envs/ccdc/lib/python3.7/site-packages/torch/nn/functional.py:1794: UserWarning: nn.functional.tanh is deprecated. Use torch.tanh instead.\n",
      "  warnings.warn(\"nn.functional.tanh is deprecated. Use torch.tanh instead.\")\n"
     ]
    },
    {
     "name": "stdout",
     "output_type": "stream",
     "text": [
      "Epoch:088 ==> LR: 0.000360, Train loss: 0.0046, Train R2_pccs: 0.9385, Train_R2: 0.9348, Valid loss: 0.0016, Valid R2_pccs: 0.9785, Valid R2: 0.9782, Elapsed Time:1.16 s\n"
     ]
    },
    {
     "name": "stderr",
     "output_type": "stream",
     "text": [
      "/PUBLIC/home/guojiali/anaconda3/envs/ccdc/lib/python3.7/site-packages/torch/nn/functional.py:1794: UserWarning: nn.functional.tanh is deprecated. Use torch.tanh instead.\n",
      "  warnings.warn(\"nn.functional.tanh is deprecated. Use torch.tanh instead.\")\n"
     ]
    },
    {
     "name": "stdout",
     "output_type": "stream",
     "text": [
      "Epoch:089 ==> LR: 0.000360, Train loss: 0.0053, Train R2_pccs: 0.9360, Train_R2: 0.9236, Valid loss: 0.0022, Valid R2_pccs: 0.9737, Valid R2: 0.9707, Elapsed Time:1.22 s\n"
     ]
    },
    {
     "name": "stderr",
     "output_type": "stream",
     "text": [
      "/PUBLIC/home/guojiali/anaconda3/envs/ccdc/lib/python3.7/site-packages/torch/nn/functional.py:1794: UserWarning: nn.functional.tanh is deprecated. Use torch.tanh instead.\n",
      "  warnings.warn(\"nn.functional.tanh is deprecated. Use torch.tanh instead.\")\n"
     ]
    },
    {
     "name": "stdout",
     "output_type": "stream",
     "text": [
      "Epoch:090 ==> LR: 0.000360, Train loss: 0.0055, Train R2_pccs: 0.9317, Train_R2: 0.9217, Valid loss: 0.0027, Valid R2_pccs: 0.9785, Valid R2: 0.9645, Elapsed Time:1.16 s\n"
     ]
    },
    {
     "name": "stderr",
     "output_type": "stream",
     "text": [
      "/PUBLIC/home/guojiali/anaconda3/envs/ccdc/lib/python3.7/site-packages/torch/nn/functional.py:1794: UserWarning: nn.functional.tanh is deprecated. Use torch.tanh instead.\n",
      "  warnings.warn(\"nn.functional.tanh is deprecated. Use torch.tanh instead.\")\n"
     ]
    },
    {
     "name": "stdout",
     "output_type": "stream",
     "text": [
      "Epoch:091 ==> LR: 0.000360, Train loss: 0.0042, Train R2_pccs: 0.9406, Train_R2: 0.9397, Valid loss: 0.0020, Valid R2_pccs: 0.9791, Valid R2: 0.9732, Elapsed Time:1.23 s\n"
     ]
    },
    {
     "name": "stderr",
     "output_type": "stream",
     "text": [
      "/PUBLIC/home/guojiali/anaconda3/envs/ccdc/lib/python3.7/site-packages/torch/nn/functional.py:1794: UserWarning: nn.functional.tanh is deprecated. Use torch.tanh instead.\n",
      "  warnings.warn(\"nn.functional.tanh is deprecated. Use torch.tanh instead.\")\n"
     ]
    },
    {
     "name": "stdout",
     "output_type": "stream",
     "text": [
      "Epoch:092 ==> LR: 0.000360, Train loss: 0.0047, Train R2_pccs: 0.9348, Train_R2: 0.9320, Valid loss: 0.0021, Valid R2_pccs: 0.9793, Valid R2: 0.9725, Elapsed Time:1.22 s\n"
     ]
    },
    {
     "name": "stderr",
     "output_type": "stream",
     "text": [
      "/PUBLIC/home/guojiali/anaconda3/envs/ccdc/lib/python3.7/site-packages/torch/nn/functional.py:1794: UserWarning: nn.functional.tanh is deprecated. Use torch.tanh instead.\n",
      "  warnings.warn(\"nn.functional.tanh is deprecated. Use torch.tanh instead.\")\n"
     ]
    },
    {
     "name": "stdout",
     "output_type": "stream",
     "text": [
      "Epoch:093 ==> LR: 0.000360, Train loss: 0.0048, Train R2_pccs: 0.9348, Train_R2: 0.9307, Valid loss: 0.0024, Valid R2_pccs: 0.9729, Valid R2: 0.9686, Elapsed Time:1.17 s\n"
     ]
    },
    {
     "name": "stderr",
     "output_type": "stream",
     "text": [
      "/PUBLIC/home/guojiali/anaconda3/envs/ccdc/lib/python3.7/site-packages/torch/nn/functional.py:1794: UserWarning: nn.functional.tanh is deprecated. Use torch.tanh instead.\n",
      "  warnings.warn(\"nn.functional.tanh is deprecated. Use torch.tanh instead.\")\n"
     ]
    },
    {
     "name": "stdout",
     "output_type": "stream",
     "text": [
      "Epoch:094 ==> LR: 0.000360, Train loss: 0.0049, Train R2_pccs: 0.9331, Train_R2: 0.9304, Valid loss: 0.0020, Valid R2_pccs: 0.9776, Valid R2: 0.9732, Elapsed Time:1.23 s\n"
     ]
    },
    {
     "name": "stderr",
     "output_type": "stream",
     "text": [
      "/PUBLIC/home/guojiali/anaconda3/envs/ccdc/lib/python3.7/site-packages/torch/nn/functional.py:1794: UserWarning: nn.functional.tanh is deprecated. Use torch.tanh instead.\n",
      "  warnings.warn(\"nn.functional.tanh is deprecated. Use torch.tanh instead.\")\n"
     ]
    },
    {
     "name": "stdout",
     "output_type": "stream",
     "text": [
      "Epoch:095 ==> LR: 0.000216, Train loss: 0.0055, Train R2_pccs: 0.9268, Train_R2: 0.9213, Valid loss: 0.0026, Valid R2_pccs: 0.9784, Valid R2: 0.9652, Elapsed Time:1.17 s\n"
     ]
    },
    {
     "name": "stderr",
     "output_type": "stream",
     "text": [
      "/PUBLIC/home/guojiali/anaconda3/envs/ccdc/lib/python3.7/site-packages/torch/nn/functional.py:1794: UserWarning: nn.functional.tanh is deprecated. Use torch.tanh instead.\n",
      "  warnings.warn(\"nn.functional.tanh is deprecated. Use torch.tanh instead.\")\n"
     ]
    },
    {
     "name": "stdout",
     "output_type": "stream",
     "text": [
      "Epoch:096 ==> LR: 0.000216, Train loss: 0.0049, Train R2_pccs: 0.9307, Train_R2: 0.9299, Valid loss: 0.0020, Valid R2_pccs: 0.9776, Valid R2: 0.9727, Elapsed Time:1.22 s\n"
     ]
    },
    {
     "name": "stderr",
     "output_type": "stream",
     "text": [
      "/PUBLIC/home/guojiali/anaconda3/envs/ccdc/lib/python3.7/site-packages/torch/nn/functional.py:1794: UserWarning: nn.functional.tanh is deprecated. Use torch.tanh instead.\n",
      "  warnings.warn(\"nn.functional.tanh is deprecated. Use torch.tanh instead.\")\n"
     ]
    },
    {
     "name": "stdout",
     "output_type": "stream",
     "text": [
      "Epoch:097 ==> LR: 0.000216, Train loss: 0.0051, Train R2_pccs: 0.9276, Train_R2: 0.9270, Valid loss: 0.0019, Valid R2_pccs: 0.9783, Valid R2: 0.9750, Elapsed Time:1.14 s\n"
     ]
    },
    {
     "name": "stderr",
     "output_type": "stream",
     "text": [
      "/PUBLIC/home/guojiali/anaconda3/envs/ccdc/lib/python3.7/site-packages/torch/nn/functional.py:1794: UserWarning: nn.functional.tanh is deprecated. Use torch.tanh instead.\n",
      "  warnings.warn(\"nn.functional.tanh is deprecated. Use torch.tanh instead.\")\n"
     ]
    },
    {
     "name": "stdout",
     "output_type": "stream",
     "text": [
      "Epoch:098 ==> LR: 0.000216, Train loss: 0.0049, Train R2_pccs: 0.9302, Train_R2: 0.9292, Valid loss: 0.0019, Valid R2_pccs: 0.9778, Valid R2: 0.9752, Elapsed Time:1.19 s\n"
     ]
    },
    {
     "name": "stderr",
     "output_type": "stream",
     "text": [
      "/PUBLIC/home/guojiali/anaconda3/envs/ccdc/lib/python3.7/site-packages/torch/nn/functional.py:1794: UserWarning: nn.functional.tanh is deprecated. Use torch.tanh instead.\n",
      "  warnings.warn(\"nn.functional.tanh is deprecated. Use torch.tanh instead.\")\n"
     ]
    },
    {
     "name": "stdout",
     "output_type": "stream",
     "text": [
      "Epoch:099 ==> LR: 0.000216, Train loss: 0.0051, Train R2_pccs: 0.9282, Train_R2: 0.9267, Valid loss: 0.0019, Valid R2_pccs: 0.9766, Valid R2: 0.9746, Elapsed Time:1.14 s\n"
     ]
    },
    {
     "name": "stderr",
     "output_type": "stream",
     "text": [
      "/PUBLIC/home/guojiali/anaconda3/envs/ccdc/lib/python3.7/site-packages/torch/nn/functional.py:1794: UserWarning: nn.functional.tanh is deprecated. Use torch.tanh instead.\n",
      "  warnings.warn(\"nn.functional.tanh is deprecated. Use torch.tanh instead.\")\n"
     ]
    },
    {
     "name": "stdout",
     "output_type": "stream",
     "text": [
      "Epoch:100 ==> LR: 0.000216, Train loss: 0.0050, Train R2_pccs: 0.9294, Train_R2: 0.9279, Valid loss: 0.0021, Valid R2_pccs: 0.9791, Valid R2: 0.9726, Elapsed Time:1.19 s\n",
      "\n",
      "Loss: 0.0016123481029599617\n"
     ]
    },
    {
     "data": {
      "text/plain": [
       "{'valid mae': 0.03066898428875467,\n",
       " 'valid loss': 0.0016123481029599617,\n",
       " 'valid R2': 0.9784764451060166}"
      ]
     },
     "execution_count": 10,
     "metadata": {},
     "output_type": "execute_result"
    }
   ],
   "source": [
    "model_name = 'test_github'\n",
    "data_loaders = {'train':train_loader, 'valid':test_loader}\n",
    "fit.training(CCPGraph, data_loaders, n_epoch=100, save_att=True, snapshot_path='./snapshot_Bayes_Opt/{}//'.format(model_name), mean=mean, std=std)"
   ]
  },
  {
   "cell_type": "code",
   "execution_count": null,
   "id": "576b571b-d536-45ba-836e-94e227752d20",
   "metadata": {},
   "outputs": [],
   "source": []
  },
  {
   "cell_type": "code",
   "execution_count": null,
   "id": "a88fd689-5ad2-4a49-a879-c1dff2aa30da",
   "metadata": {},
   "outputs": [],
   "source": []
  },
  {
   "cell_type": "code",
   "execution_count": null,
   "id": "64450120-251c-45f0-bc4f-7b3db68be8a2",
   "metadata": {},
   "outputs": [],
   "source": []
  },
  {
   "cell_type": "code",
   "execution_count": null,
   "id": "0853cedf-0a0f-4731-b424-6f57de2fa274",
   "metadata": {},
   "outputs": [],
   "source": []
  }
 ],
 "metadata": {
  "kernelspec": {
   "display_name": "ccdc",
   "language": "python",
   "name": "ccdc"
  },
  "language_info": {
   "codemirror_mode": {
    "name": "ipython",
    "version": 3
   },
   "file_extension": ".py",
   "mimetype": "text/x-python",
   "name": "python",
   "nbconvert_exporter": "python",
   "pygments_lexer": "ipython3",
   "version": "3.7.12"
  }
 },
 "nbformat": 4,
 "nbformat_minor": 5
}
